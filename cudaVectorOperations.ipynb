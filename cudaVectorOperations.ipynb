//cuda cpp plugin installation
!pip install nvcc4jupyter

//load the installed plugin
%load_ext nvcc4jupyter

//simple cuda based code to check if the runtime is set correctly
import subprocess

gpuInfo = subprocess.getoutput("nvidia-smi --query-gpu=name,compute_cap --format=csv,noheader")

if "not found" in gpuInfo.lower():
  raise RuntimeError("Runtime not set properly")

gpuName, computeCap = map(str.strip, gpuInfo.split(","))
gpuArch = f"sm_{computeCap.replace('.', '')}"

print(f"GPU Name: {gpuName}")
print(f"Compute Capability: {computeCap}")
print(f"Architecture: {gpuArch}")

//cuda program to add two vectors' elements

%%cuda -c "--gpu-architecture $gpuArch"

#include "iostream"

__global__ void add(int *a, int *b, int *c, int n) {
    int i = threadIdx.x;
    if(i < n)
      c[i] = a[i] + b[i];
}

__global__ void subtract(int *a, int *b, int *c, int n) {
    int i = threadIdx.x;
    if(i < n)
      c[i] = a[i] - b[i];
}

__global__ void multiply(int *a, int *b, int *c, int n) {
    int i = threadIdx.x;
    if(i < n)
      c[i] = a[i] * b[i];
}

__global__ void divide(int *a, int *b, int *c, int n) {
    int i = threadIdx.x;
    if(i < n)
      c[i] = a[i] / b[i];
}

int main() {
    int n = 5;
    int a[5] = {12, 23, 34, 45, 56};
    int b[5] = {1, 2, 3, 4, 5};
    int c[5];

    int *deviceA, *deviceB, *deviceC;

    cudaMalloc(&deviceA, n * sizeof(int));
    cudaMalloc(&deviceB, n * sizeof(int));
    cudaMalloc(&deviceC, n * sizeof(int));

    cudaMemcpy(deviceA, a, n*sizeof(int), cudaMemcpyHostToDevice);
    cudaMemcpy(deviceB, b, n*sizeof(int), cudaMemcpyHostToDevice);

    add<<<1, n>>>(deviceA, deviceB, deviceC, n);

    cudaMemcpy(c, deviceC, n*sizeof(int), cudaMemcpyDeviceToHost);

    std::cout<<"Addition: ";
    for(int i=0; i<n; i++)
      std::cout<<c[i]<<" ";
    std::cout<<std::endl;

    subtract<<<1, n>>>(deviceA, deviceB, deviceC, n);

    cudaMemcpy(c, deviceC, n*sizeof(int), cudaMemcpyDeviceToHost);

    std::cout<<"Subtraction: ";
    for(int i=0; i<n; i++)
      std::cout<<c[i]<<" ";
    std::cout<<std::endl;

    multiply<<<1, n>>>(deviceA, deviceB, deviceC, n);

    cudaMemcpy(c, deviceC, n*sizeof(int), cudaMemcpyDeviceToHost);

    std::cout<<"Multiplication: ";
    for(int i=0; i<n; i++)
      std::cout<<c[i]<<" ";
    std::cout<<std::endl;

    divide<<<1, n>>>(deviceA, deviceB, deviceC, n);

    cudaMemcpy(c, deviceC, n*sizeof(int), cudaMemcpyDeviceToHost);

    std::cout<<"Division: ";
    for(int i=0; i<n; i++)
      std::cout<<c[i]<<" ";
    std::cout<<std::endl;

    cudaFree(deviceA);
    cudaFree(deviceB);
    cudaFree(deviceC);

    return 0;
}
